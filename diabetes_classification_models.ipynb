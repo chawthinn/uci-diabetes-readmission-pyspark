{
 "cells": [
  {
   "cell_type": "markdown",
   "id": "c012d457",
   "metadata": {},
   "source": [
    "## Model Building"
   ]
  },
  {
   "cell_type": "markdown",
   "id": "84badd02",
   "metadata": {},
   "source": [
    "### Import Required Libraries "
   ]
  },
  {
   "cell_type": "code",
   "execution_count": 2,
   "id": "aeb83612",
   "metadata": {},
   "outputs": [],
   "source": [
    "from pyspark.sql import SparkSession\n",
    "from pyspark.sql.functions import *\n",
    "from pyspark.sql.types import *\n",
    "from pyspark.ml import Pipeline\n",
    "from pyspark.ml.classification import (\n",
    "    LogisticRegression, DecisionTreeClassifier, RandomForestClassifier,\n",
    "    GBTClassifier, NaiveBayes, LinearSVC\n",
    ")\n",
    "from pyspark.ml.feature import VectorAssembler\n",
    "from pyspark.ml.evaluation import BinaryClassificationEvaluator\n",
    "from sklearn.metrics import confusion_matrix\n",
    "from sklearn.metrics import accuracy_score, f1_score, roc_curve, auc\n",
    "import matplotlib.pyplot as plt\n",
    "import seaborn as sns"
   ]
  },
  {
   "cell_type": "code",
   "execution_count": 3,
   "id": "913b73c9",
   "metadata": {},
   "outputs": [],
   "source": [
    "# Start spark session\n",
    "spark = SparkSession.builder.appName(\"diabetes_readmission\").getOrCreate()"
   ]
  },
  {
   "cell_type": "code",
   "execution_count": 4,
   "id": "88766667",
   "metadata": {},
   "outputs": [],
   "source": [
    "# Create a spark dataframe\n",
    "df = spark.read.csv(\"datasets/diabetes_cleaned_onehot.csv\", header=True, inferSchema=True)"
   ]
  },
  {
   "cell_type": "markdown",
   "id": "35372549",
   "metadata": {},
   "source": [
    "### Prepare data"
   ]
  },
  {
   "cell_type": "code",
   "execution_count": 5,
   "id": "679e4334",
   "metadata": {},
   "outputs": [
    {
     "name": "stdout",
     "output_type": "stream",
     "text": [
      "root\n",
      " |-- admission_type_id: integer (nullable = true)\n",
      " |-- discharge_disposition_id: integer (nullable = true)\n",
      " |-- admission_source_id: integer (nullable = true)\n",
      " |-- time_in_hospital: integer (nullable = true)\n",
      " |-- num_lab_procedures: integer (nullable = true)\n",
      " |-- num_procedures: integer (nullable = true)\n",
      " |-- num_medications: integer (nullable = true)\n",
      " |-- number_outpatient: integer (nullable = true)\n",
      " |-- number_emergency: integer (nullable = true)\n",
      " |-- number_inpatient: integer (nullable = true)\n",
      " |-- number_diagnoses: integer (nullable = true)\n",
      " |-- readmitted: string (nullable = true)\n",
      " |-- age_num: integer (nullable = true)\n",
      " |-- race_AfricanAmerican: boolean (nullable = true)\n",
      " |-- race_Asian: boolean (nullable = true)\n",
      " |-- race_Caucasian: boolean (nullable = true)\n",
      " |-- race_Hispanic: boolean (nullable = true)\n",
      " |-- race_Other: boolean (nullable = true)\n",
      " |-- race_Unknown: boolean (nullable = true)\n",
      " |-- gender_Female: boolean (nullable = true)\n",
      " |-- gender_Male: boolean (nullable = true)\n",
      " |-- gender_Unknown/Invalid: boolean (nullable = true)\n",
      " |-- age_[20-30): boolean (nullable = true)\n",
      " |-- age_[30-40): boolean (nullable = true)\n",
      " |-- age_[40-50): boolean (nullable = true)\n",
      " |-- age_[50-60): boolean (nullable = true)\n",
      " |-- age_[60-70): boolean (nullable = true)\n",
      " |-- age_[70-80): boolean (nullable = true)\n",
      " |-- max_glu_serum_>200: boolean (nullable = true)\n",
      " |-- max_glu_serum_>300: boolean (nullable = true)\n",
      " |-- max_glu_serum_Norm: boolean (nullable = true)\n",
      " |-- max_glu_serum_Unknown: boolean (nullable = true)\n",
      " |-- A1Cresult_>7: boolean (nullable = true)\n",
      " |-- A1Cresult_>8: boolean (nullable = true)\n",
      " |-- A1Cresult_Norm: boolean (nullable = true)\n",
      " |-- A1Cresult_Unknown: boolean (nullable = true)\n",
      " |-- metformin_Down: boolean (nullable = true)\n",
      " |-- metformin_No: boolean (nullable = true)\n",
      " |-- metformin_Steady: boolean (nullable = true)\n",
      " |-- metformin_Up: boolean (nullable = true)\n",
      " |-- repaglinide_Down: boolean (nullable = true)\n",
      " |-- repaglinide_No: boolean (nullable = true)\n",
      " |-- repaglinide_Steady: boolean (nullable = true)\n",
      " |-- repaglinide_Up: boolean (nullable = true)\n",
      " |-- nateglinide_Down: boolean (nullable = true)\n",
      " |-- nateglinide_No: boolean (nullable = true)\n",
      " |-- nateglinide_Steady: boolean (nullable = true)\n",
      " |-- nateglinide_Up: boolean (nullable = true)\n",
      " |-- chlorpropamide_No: boolean (nullable = true)\n",
      " |-- chlorpropamide_Steady: boolean (nullable = true)\n",
      " |-- chlorpropamide_Up: boolean (nullable = true)\n",
      " |-- glimepiride_Down: boolean (nullable = true)\n",
      " |-- glimepiride_No: boolean (nullable = true)\n",
      " |-- glimepiride_Steady: boolean (nullable = true)\n",
      " |-- glimepiride_Up: boolean (nullable = true)\n",
      " |-- acetohexamide_No: boolean (nullable = true)\n",
      " |-- acetohexamide_Steady: boolean (nullable = true)\n",
      " |-- glipizide_Down: boolean (nullable = true)\n",
      " |-- glipizide_No: boolean (nullable = true)\n",
      " |-- glipizide_Steady: boolean (nullable = true)\n",
      " |-- glipizide_Up: boolean (nullable = true)\n",
      " |-- glyburide_Down: boolean (nullable = true)\n",
      " |-- glyburide_No: boolean (nullable = true)\n",
      " |-- glyburide_Steady: boolean (nullable = true)\n",
      " |-- glyburide_Up: boolean (nullable = true)\n",
      " |-- tolbutamide_No: boolean (nullable = true)\n",
      " |-- tolbutamide_Steady: boolean (nullable = true)\n",
      " |-- pioglitazone_Down: boolean (nullable = true)\n",
      " |-- pioglitazone_No: boolean (nullable = true)\n",
      " |-- pioglitazone_Steady: boolean (nullable = true)\n",
      " |-- pioglitazone_Up: boolean (nullable = true)\n",
      " |-- rosiglitazone_Down: boolean (nullable = true)\n",
      " |-- rosiglitazone_No: boolean (nullable = true)\n",
      " |-- rosiglitazone_Steady: boolean (nullable = true)\n",
      " |-- rosiglitazone_Up: boolean (nullable = true)\n",
      " |-- acarbose_No: boolean (nullable = true)\n",
      " |-- acarbose_Steady: boolean (nullable = true)\n",
      " |-- acarbose_Up: boolean (nullable = true)\n",
      " |-- miglitol_Down: boolean (nullable = true)\n",
      " |-- miglitol_No: boolean (nullable = true)\n",
      " |-- miglitol_Steady: boolean (nullable = true)\n",
      " |-- miglitol_Up: boolean (nullable = true)\n",
      " |-- troglitazone_No: boolean (nullable = true)\n",
      " |-- troglitazone_Steady: boolean (nullable = true)\n",
      " |-- tolazamide_No: boolean (nullable = true)\n",
      " |-- tolazamide_Steady: boolean (nullable = true)\n",
      " |-- examide_No: boolean (nullable = true)\n",
      " |-- citoglipton_No: boolean (nullable = true)\n",
      " |-- insulin_Down: boolean (nullable = true)\n",
      " |-- insulin_No: boolean (nullable = true)\n",
      " |-- insulin_Steady: boolean (nullable = true)\n",
      " |-- insulin_Up: boolean (nullable = true)\n",
      " |-- glyburide-metformin_Down: boolean (nullable = true)\n",
      " |-- glyburide-metformin_No: boolean (nullable = true)\n",
      " |-- glyburide-metformin_Steady: boolean (nullable = true)\n",
      " |-- glyburide-metformin_Up: boolean (nullable = true)\n",
      " |-- glipizide-metformin_No: boolean (nullable = true)\n",
      " |-- glipizide-metformin_Steady: boolean (nullable = true)\n",
      " |-- glimepiride-pioglitazone_No: boolean (nullable = true)\n",
      " |-- glimepiride-pioglitazone_Steady: boolean (nullable = true)\n",
      " |-- metformin-rosiglitazone_No: boolean (nullable = true)\n",
      " |-- metformin-rosiglitazone_Steady: boolean (nullable = true)\n",
      " |-- metformin-pioglitazone_No: boolean (nullable = true)\n",
      " |-- metformin-pioglitazone_Steady: boolean (nullable = true)\n",
      " |-- change_Ch: boolean (nullable = true)\n",
      " |-- change_No: boolean (nullable = true)\n",
      " |-- diabetesMed_No: boolean (nullable = true)\n",
      " |-- diabetesMed_Yes: boolean (nullable = true)\n",
      " |-- readmitted_label: integer (nullable = true)\n",
      "\n"
     ]
    }
   ],
   "source": [
    "# Verify schema\n",
    "df.printSchema()"
   ]
  },
  {
   "cell_type": "code",
   "execution_count": 6,
   "id": "5537230e",
   "metadata": {},
   "outputs": [
    {
     "name": "stdout",
     "output_type": "stream",
     "text": [
      "+-----------------+------------------------+-------------------+----------------+------------------+--------------+---------------+-----------------+----------------+----------------+----------------+----------+-------+--------------------+----------+--------------+-------------+----------+------------+-------------+-----------+----------------------+-----------+-----------+-----------+-----------+-----------+-----------+------------------+------------------+------------------+---------------------+------------+------------+--------------+-----------------+--------------+------------+----------------+------------+----------------+--------------+------------------+--------------+----------------+--------------+------------------+--------------+-----------------+---------------------+-----------------+----------------+--------------+------------------+--------------+----------------+--------------------+--------------+------------+----------------+------------+--------------+------------+----------------+------------+--------------+------------------+-----------------+---------------+-------------------+---------------+------------------+----------------+--------------------+----------------+-----------+---------------+-----------+-------------+-----------+---------------+-----------+---------------+-------------------+-------------+-----------------+----------+--------------+------------+----------+--------------+----------+------------------------+----------------------+--------------------------+----------------------+----------------------+--------------------------+---------------------------+-------------------------------+--------------------------+------------------------------+-------------------------+-----------------------------+---------+---------+--------------+---------------+----------------+\n",
      "|admission_type_id|discharge_disposition_id|admission_source_id|time_in_hospital|num_lab_procedures|num_procedures|num_medications|number_outpatient|number_emergency|number_inpatient|number_diagnoses|readmitted|age_num|race_AfricanAmerican|race_Asian|race_Caucasian|race_Hispanic|race_Other|race_Unknown|gender_Female|gender_Male|gender_Unknown/Invalid|age_[20-30)|age_[30-40)|age_[40-50)|age_[50-60)|age_[60-70)|age_[70-80)|max_glu_serum_>200|max_glu_serum_>300|max_glu_serum_Norm|max_glu_serum_Unknown|A1Cresult_>7|A1Cresult_>8|A1Cresult_Norm|A1Cresult_Unknown|metformin_Down|metformin_No|metformin_Steady|metformin_Up|repaglinide_Down|repaglinide_No|repaglinide_Steady|repaglinide_Up|nateglinide_Down|nateglinide_No|nateglinide_Steady|nateglinide_Up|chlorpropamide_No|chlorpropamide_Steady|chlorpropamide_Up|glimepiride_Down|glimepiride_No|glimepiride_Steady|glimepiride_Up|acetohexamide_No|acetohexamide_Steady|glipizide_Down|glipizide_No|glipizide_Steady|glipizide_Up|glyburide_Down|glyburide_No|glyburide_Steady|glyburide_Up|tolbutamide_No|tolbutamide_Steady|pioglitazone_Down|pioglitazone_No|pioglitazone_Steady|pioglitazone_Up|rosiglitazone_Down|rosiglitazone_No|rosiglitazone_Steady|rosiglitazone_Up|acarbose_No|acarbose_Steady|acarbose_Up|miglitol_Down|miglitol_No|miglitol_Steady|miglitol_Up|troglitazone_No|troglitazone_Steady|tolazamide_No|tolazamide_Steady|examide_No|citoglipton_No|insulin_Down|insulin_No|insulin_Steady|insulin_Up|glyburide-metformin_Down|glyburide-metformin_No|glyburide-metformin_Steady|glyburide-metformin_Up|glipizide-metformin_No|glipizide-metformin_Steady|glimepiride-pioglitazone_No|glimepiride-pioglitazone_Steady|metformin-rosiglitazone_No|metformin-rosiglitazone_Steady|metformin-pioglitazone_No|metformin-pioglitazone_Steady|change_Ch|change_No|diabetesMed_No|diabetesMed_Yes|readmitted_label|\n",
      "+-----------------+------------------------+-------------------+----------------+------------------+--------------+---------------+-----------------+----------------+----------------+----------------+----------+-------+--------------------+----------+--------------+-------------+----------+------------+-------------+-----------+----------------------+-----------+-----------+-----------+-----------+-----------+-----------+------------------+------------------+------------------+---------------------+------------+------------+--------------+-----------------+--------------+------------+----------------+------------+----------------+--------------+------------------+--------------+----------------+--------------+------------------+--------------+-----------------+---------------------+-----------------+----------------+--------------+------------------+--------------+----------------+--------------------+--------------+------------+----------------+------------+--------------+------------+----------------+------------+--------------+------------------+-----------------+---------------+-------------------+---------------+------------------+----------------+--------------------+----------------+-----------+---------------+-----------+-------------+-----------+---------------+-----------+---------------+-------------------+-------------+-----------------+----------+--------------+------------+----------+--------------+----------+------------------------+----------------------+--------------------------+----------------------+----------------------+--------------------------+---------------------------+-------------------------------+--------------------------+------------------------------+-------------------------+-----------------------------+---------+---------+--------------+---------------+----------------+\n",
      "|                1|                       1|                  7|               2|                11|             5|             13|                2|               0|               1|               6|        NO|     20|                true|     false|         false|        false|     false|       false|         true|      false|                 false|       true|      false|      false|      false|      false|      false|             false|             false|             false|                 true|       false|       false|         false|             true|         false|        true|           false|       false|           false|          true|             false|         false|           false|          true|             false|         false|             true|                false|            false|           false|          true|             false|         false|            true|               false|         false|       false|            true|       false|         false|        true|           false|       false|          true|             false|            false|           true|              false|          false|             false|            true|               false|           false|       true|          false|      false|        false|       true|          false|      false|           true|              false|         true|            false|      true|          true|       false|      true|         false|     false|                   false|                  true|                     false|                 false|                  true|                     false|                       true|                          false|                      true|                         false|                     true|                        false|    false|     true|         false|           true|               0|\n",
      "|                1|                       1|                  7|               2|                44|             1|             16|                0|               0|               0|               7|        NO|     30|               false|     false|          true|        false|     false|       false|        false|       true|                 false|      false|       true|      false|      false|      false|      false|             false|             false|             false|                 true|       false|       false|         false|             true|         false|        true|           false|       false|           false|          true|             false|         false|           false|          true|             false|         false|             true|                false|            false|           false|          true|             false|         false|            true|               false|         false|        true|           false|       false|         false|        true|           false|       false|          true|             false|            false|           true|              false|          false|             false|            true|               false|           false|       true|          false|      false|        false|       true|          false|      false|           true|              false|         true|            false|      true|          true|       false|     false|         false|      true|                   false|                  true|                     false|                 false|                  true|                     false|                       true|                          false|                      true|                         false|                     true|                        false|     true|    false|         false|           true|               0|\n",
      "|                1|                       1|                  7|               1|                51|             0|              8|                0|               0|               0|               5|        NO|     40|               false|     false|          true|        false|     false|       false|        false|       true|                 false|      false|      false|       true|      false|      false|      false|             false|             false|             false|                 true|       false|       false|         false|             true|         false|        true|           false|       false|           false|          true|             false|         false|           false|          true|             false|         false|             true|                false|            false|           false|          true|             false|         false|            true|               false|         false|       false|            true|       false|         false|        true|           false|       false|          true|             false|            false|           true|              false|          false|             false|            true|               false|           false|       true|          false|      false|        false|       true|          false|      false|           true|              false|         true|            false|      true|          true|       false|     false|          true|     false|                   false|                  true|                     false|                 false|                  true|                     false|                       true|                          false|                      true|                         false|                     true|                        false|     true|    false|         false|           true|               0|\n",
      "|                2|                       1|                  2|               3|                31|             6|             16|                0|               0|               0|               9|       >30|     50|               false|     false|          true|        false|     false|       false|        false|       true|                 false|      false|      false|      false|       true|      false|      false|             false|             false|             false|                 true|       false|       false|         false|             true|         false|        true|           false|       false|           false|          true|             false|         false|           false|          true|             false|         false|             true|                false|            false|           false|          true|             false|         false|            true|               false|         false|        true|           false|       false|         false|        true|           false|       false|          true|             false|            false|           true|              false|          false|             false|            true|               false|           false|       true|          false|      false|        false|       true|          false|      false|           true|              false|         true|            false|      true|          true|       false|     false|          true|     false|                   false|                  true|                     false|                 false|                  true|                     false|                       true|                          false|                      true|                         false|                     true|                        false|    false|     true|         false|           true|               1|\n",
      "|                3|                       1|                  2|               4|                70|             1|             21|                0|               0|               0|               7|        NO|     60|               false|     false|          true|        false|     false|       false|        false|       true|                 false|      false|      false|      false|      false|       true|      false|             false|             false|             false|                 true|       false|       false|         false|             true|         false|       false|            true|       false|           false|          true|             false|         false|           false|          true|             false|         false|             true|                false|            false|           false|         false|              true|         false|            true|               false|         false|        true|           false|       false|         false|        true|           false|       false|          true|             false|            false|           true|              false|          false|             false|            true|               false|           false|       true|          false|      false|        false|       true|          false|      false|           true|              false|         true|            false|      true|          true|       false|     false|          true|     false|                   false|                  true|                     false|                 false|                  true|                     false|                       true|                          false|                      true|                         false|                     true|                        false|     true|    false|         false|           true|               0|\n",
      "+-----------------+------------------------+-------------------+----------------+------------------+--------------+---------------+-----------------+----------------+----------------+----------------+----------+-------+--------------------+----------+--------------+-------------+----------+------------+-------------+-----------+----------------------+-----------+-----------+-----------+-----------+-----------+-----------+------------------+------------------+------------------+---------------------+------------+------------+--------------+-----------------+--------------+------------+----------------+------------+----------------+--------------+------------------+--------------+----------------+--------------+------------------+--------------+-----------------+---------------------+-----------------+----------------+--------------+------------------+--------------+----------------+--------------------+--------------+------------+----------------+------------+--------------+------------+----------------+------------+--------------+------------------+-----------------+---------------+-------------------+---------------+------------------+----------------+--------------------+----------------+-----------+---------------+-----------+-------------+-----------+---------------+-----------+---------------+-------------------+-------------+-----------------+----------+--------------+------------+----------+--------------+----------+------------------------+----------------------+--------------------------+----------------------+----------------------+--------------------------+---------------------------+-------------------------------+--------------------------+------------------------------+-------------------------+-----------------------------+---------+---------+--------------+---------------+----------------+\n",
      "only showing top 5 rows\n",
      "\n"
     ]
    }
   ],
   "source": [
    "# Show first 5 rows\n",
    "df.show(5)"
   ]
  },
  {
   "cell_type": "code",
   "execution_count": 16,
   "id": "38644666",
   "metadata": {},
   "outputs": [],
   "source": [
    "# Create Feature Columns\n",
    "target_col = \"readmitted_label\"\n",
    "features = [col for col in df.columns if col != target_col]"
   ]
  },
  {
   "cell_type": "markdown",
   "id": "d3009edb",
   "metadata": {},
   "source": [
    "### Assemble Features"
   ]
  },
  {
   "cell_type": "code",
   "execution_count": 17,
   "id": "e5d9e0f0",
   "metadata": {},
   "outputs": [],
   "source": [
    "# Create a Vector Assembler\n",
    "assembler = VectorAssembler(inputCols=features, outputCol=\"features_vector\")"
   ]
  },
  {
   "cell_type": "markdown",
   "id": "a39a0dbd",
   "metadata": {},
   "source": [
    "### Split Data into Training and Test sets"
   ]
  },
  {
   "cell_type": "code",
   "execution_count": 18,
   "id": "26dfbb80",
   "metadata": {},
   "outputs": [],
   "source": [
    "# Split data into two parts\n",
    "train_data, test_data = df.randomSplit([0.8, 0.2], seed=42)"
   ]
  },
  {
   "cell_type": "markdown",
   "id": "1711a895",
   "metadata": {},
   "source": [
    "### Initialize and Configure Models"
   ]
  },
  {
   "cell_type": "code",
   "execution_count": 20,
   "id": "d39a4273",
   "metadata": {},
   "outputs": [],
   "source": [
    "# Define models\n",
    "lr = LogisticRegression(featuresCol=\"features_vector\", labelCol=\"readmitted_label\")\n",
    "rf = RandomForestClassifier(featuresCol=\"features_vector\", labelCol=\"readmitted_label\")\n",
    "gbt = GBTClassifier(featuresCol=\"features_vector\", labelCol=\"readmitted_label\")\n",
    "dt = DecisionTreeClassifier(featuresCol=\"features_vector\", labelCol=\"readmitted_label\")"
   ]
  },
  {
   "cell_type": "code",
   "execution_count": null,
   "id": "93cca22b",
   "metadata": {},
   "outputs": [],
   "source": [
    "# Create pipeline\n",
    "models = {\n",
    "    \"LogisticRegression\":Pipeline(stages=[assembler, lr]),\n",
    "    \"RandomForestClassifier\":Pipeline(stages=[assembler, rf]),\n",
    "    \"GBTClassifier\":Pipeline(stages=+[assembler, gbt]),\n",
    "    \"DecisionTreeClassifier\":Pipeline(stages=+[assembler, dt])\n",
    "}"
   ]
  },
  {
   "cell_type": "markdown",
   "id": "c36c6d78",
   "metadata": {},
   "source": [
    "### Train & Evaluate Models"
   ]
  },
  {
   "cell_type": "code",
   "execution_count": null,
   "id": "d3f33834",
   "metadata": {},
   "outputs": [],
   "source": [
    "# Initialize evaluator for AUC (PySpark)\n",
    "auc_evaluator = BinaryClassificationEvaluator(labelCol=\"readmitted_binary\", metricName=\"areaUnderROC\")\n",
    "\n",
    "# Create empty results\n",
    "results = []\n",
    "\n",
    "for name, model in models.items():\n",
    "    # Build pipeline and fit\n",
    "    pipeline = Pipeline(stages=[assembler, model])\n",
    "    pipeline_model = pipeline.fit(train_data)\n",
    "    predictions = pipeline_model.transform(test_data)\n",
    "\n",
    "    # AUC using Spark\n",
    "    auc = auc_evaluator.evaluate(predictions)\n",
    "    \n",
    "    # Convert predictions to pandas for sklearn metrics\n",
    "    preds_pd = predictions.select(\"readmitted_binary\", \"prediction\").toPandas()\n",
    "\n",
    "    acc = accuracy_score(preds_pd[\"readmitted_binary\"], preds_pd[\"prediction\"])\n",
    "    f1 = f1_score(preds_pd[\"readmitted_binary\"], preds_pd[\"prediction\"])\n",
    "\n",
    "    results.append({\n",
    "        \"Model\": name,\n",
    "        \"AUC\": round(auc, 4),\n",
    "        \"Accuracy\": round(acc, 4),\n",
    "        \"F1 Score\": round(f1, 4)\n",
    "    })"
   ]
  },
  {
   "cell_type": "markdown",
   "id": "b73d0bec",
   "metadata": {},
   "source": [
    "### Compare Model Performance\n"
   ]
  },
  {
   "cell_type": "markdown",
   "id": "74a171d3",
   "metadata": {},
   "source": [
    "Summarize AUC / Accuracy / F1 for each model in a single table."
   ]
  },
  {
   "cell_type": "code",
   "execution_count": null,
   "id": "b13e379d",
   "metadata": {},
   "outputs": [],
   "source": [
    "# Create summary table\n",
    "results_df = pd.DataFrame(results).sort_values(by=\"AUC\", ascending=False)\n",
    "results_df.reset_index(drop=True, inplace=True)\n",
    "\n",
    "# Display the table\n",
    "print(results_df)"
   ]
  },
  {
   "cell_type": "markdown",
   "id": "f48a2af8",
   "metadata": {},
   "source": [
    "### Visualize Model Performance"
   ]
  },
  {
   "cell_type": "markdown",
   "id": "1a2c62d2",
   "metadata": {},
   "source": [
    "#### Confusion Matrix"
   ]
  },
  {
   "cell_type": "code",
   "execution_count": null,
   "id": "54a306bb",
   "metadata": {},
   "outputs": [],
   "source": [
    "\n",
    "# Convert predictions to pandas\n",
    "preds_pd = predictions.select(\"readmitted_binary\", \"prediction\").toPandas()\n",
    "\n",
    "# Generate confusion matrix\n",
    "cm = confusion_matrix(preds_pd[\"readmitted_binary\"], preds_pd[\"prediction\"])\n",
    "\n",
    "# Plot using seaborn\n",
    "plt.figure(figsize=(5, 4))\n",
    "sns.heatmap(cm, annot=True, fmt='d', cmap='Blues', xticklabels=['Not Readmitted', 'Readmitted'], yticklabels=['Not Readmitted', 'Readmitted'])\n",
    "plt.xlabel(\"Predicted Label\")\n",
    "plt.ylabel(\"True Label\")\n",
    "plt.title(\"Confusion Matrix\")\n",
    "plt.tight_layout()\n",
    "plt.show()\n"
   ]
  },
  {
   "cell_type": "markdown",
   "id": "927b374c",
   "metadata": {},
   "source": [
    "#### ROC Curve"
   ]
  },
  {
   "cell_type": "code",
   "execution_count": null,
   "id": "5542a061",
   "metadata": {},
   "outputs": [],
   "source": [
    "# Extract probability of class 1 (readmitted)\n",
    "probs_labels = predictions.select(\"probability\", \"readmitted_binary\").collect()\n",
    "probs = [row[\"probability\"][1] for row in probs_labels]\n",
    "labels = [row[\"readmitted_binary\"] for row in probs_labels]\n",
    "\n",
    "fpr, tpr, _ = roc_curve(labels, probs)\n",
    "roc_auc = auc(fpr, tpr)\n",
    "\n",
    "plt.plot(fpr, tpr, label=f\"AUC = {roc_auc:.4f}\")\n",
    "plt.plot([0, 1], [0, 1], \"k--\")\n",
    "plt.xlabel(\"False Positive Rate\")\n",
    "plt.ylabel(\"True Positive Rate\")\n",
    "plt.title(\"ROC Curve\")\n",
    "plt.legend(loc=\"lower right\")\n",
    "plt.grid(True)\n",
    "plt.show()"
   ]
  },
  {
   "cell_type": "markdown",
   "id": "3d158abe",
   "metadata": {},
   "source": [
    "#### Analyze Feature Importance"
   ]
  },
  {
   "cell_type": "markdown",
   "id": "0effb916",
   "metadata": {},
   "source": [
    "Visualize which features had the strongest influence on the model’s decisions.\n"
   ]
  },
  {
   "cell_type": "markdown",
   "id": "735aa4d2",
   "metadata": {},
   "source": [
    "#### Tune Hyperparameters"
   ]
  },
  {
   "cell_type": "markdown",
   "id": "59345b01",
   "metadata": {},
   "source": [
    "Use cross-validation and grid search to optimize model parameters.\n"
   ]
  },
  {
   "cell_type": "markdown",
   "id": "ca13551a",
   "metadata": {},
   "source": [
    "### Interpret Results"
   ]
  },
  {
   "cell_type": "code",
   "execution_count": null,
   "id": "841264e3",
   "metadata": {},
   "outputs": [],
   "source": []
  },
  {
   "cell_type": "markdown",
   "id": "57a3d949",
   "metadata": {},
   "source": [
    "### Save PySpark Model Pipeline"
   ]
  },
  {
   "cell_type": "code",
   "execution_count": null,
   "id": "7203738b",
   "metadata": {},
   "outputs": [],
   "source": []
  }
 ],
 "metadata": {
  "kernelspec": {
   "display_name": "Python 3",
   "language": "python",
   "name": "python3"
  },
  "language_info": {
   "codemirror_mode": {
    "name": "ipython",
    "version": 3
   },
   "file_extension": ".py",
   "mimetype": "text/x-python",
   "name": "python",
   "nbconvert_exporter": "python",
   "pygments_lexer": "ipython3",
   "version": "3.12.0"
  }
 },
 "nbformat": 4,
 "nbformat_minor": 5
}
