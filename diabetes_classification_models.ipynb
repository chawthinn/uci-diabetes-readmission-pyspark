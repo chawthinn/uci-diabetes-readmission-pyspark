{
 "cells": [
  {
   "cell_type": "markdown",
   "id": "c012d457",
   "metadata": {},
   "source": [
    "## Model Building"
   ]
  },
  {
   "cell_type": "markdown",
   "id": "84badd02",
   "metadata": {},
   "source": [
    "### Import Required Libraries "
   ]
  },
  {
   "cell_type": "code",
   "execution_count": 4,
   "id": "aeb83612",
   "metadata": {},
   "outputs": [],
   "source": [
    "from pyspark.ml.classification import (\n",
    "    LogisticRegression, DecisionTreeClassifier, RandomForestClassifier,\n",
    "    GBTClassifier, NaiveBayes, LinearSVC\n",
    ")\n",
    "from pyspark.ml import Pipeline\n",
    "from pyspark.ml.feature import VectorAssembler\n",
    "from pyspark.ml.evaluation import BinaryClassificationEvaluator\n",
    "from sklearn.metrics import confusion_matrix\n",
    "from sklearn.metrics import accuracy_score, f1_score, roc_curve, auc\n",
    "import matplotlib.pyplot as plt\n",
    "import seaborn as sns"
   ]
  },
  {
   "cell_type": "markdown",
   "id": "d0f3bb00",
   "metadata": {},
   "source": [
    "### Define Feature Columns"
   ]
  },
  {
   "cell_type": "code",
   "execution_count": null,
   "id": "2b1e87bd",
   "metadata": {},
   "outputs": [],
   "source": [
    "feature_cols = [col for col in df.columns if col != 'readmitted_binary']"
   ]
  },
  {
   "cell_type": "markdown",
   "id": "d3009edb",
   "metadata": {},
   "source": [
    "### Assemble Features"
   ]
  },
  {
   "cell_type": "code",
   "execution_count": null,
   "id": "e5d9e0f0",
   "metadata": {},
   "outputs": [],
   "source": [
    "assembler = VectorAssembler(inputCols=feature_cols, outputCol=\"features\")"
   ]
  },
  {
   "cell_type": "markdown",
   "id": "a39a0dbd",
   "metadata": {},
   "source": [
    "### Split Data into Training and Test sets"
   ]
  },
  {
   "cell_type": "code",
   "execution_count": null,
   "id": "26dfbb80",
   "metadata": {},
   "outputs": [],
   "source": [
    "train_data, test_data = df.randomSplit([0.8, 0.2], seed=42)"
   ]
  },
  {
   "cell_type": "markdown",
   "id": "1711a895",
   "metadata": {},
   "source": [
    "### Initialize and Configure Models"
   ]
  },
  {
   "cell_type": "code",
   "execution_count": null,
   "id": "d39a4273",
   "metadata": {},
   "outputs": [],
   "source": [
    "models = {\n",
    "    \"Logistic Regression\": LogisticRegression(labelCol=\"readmitted_binary\", featuresCol=\"features\"),\n",
    "    \"Decision Tree\": DecisionTreeClassifier(labelCol=\"readmitted_binary\", featuresCol=\"features\"),\n",
    "    \"Random Forest\": RandomForestClassifier(labelCol=\"readmitted_binary\", featuresCol=\"features\"),\n",
    "    \"Gradient Boosted Trees\": GBTClassifier(labelCol=\"readmitted_binary\", featuresCol=\"features\"),\n",
    "    \"Naive Bayes\": NaiveBayes(labelCol=\"readmitted_binary\", featuresCol=\"features\"),\n",
    "    \"Linear SVM\": LinearSVC(labelCol=\"readmitted_binary\", featuresCol=\"features\")\n",
    "}"
   ]
  },
  {
   "cell_type": "markdown",
   "id": "c36c6d78",
   "metadata": {},
   "source": [
    "### Train & Evaluate Models"
   ]
  },
  {
   "cell_type": "code",
   "execution_count": null,
   "id": "d3f33834",
   "metadata": {},
   "outputs": [],
   "source": [
    "# Initialize evaluator for AUC (PySpark)\n",
    "auc_evaluator = BinaryClassificationEvaluator(labelCol=\"readmitted_binary\", metricName=\"areaUnderROC\")\n",
    "\n",
    "# Create empty results\n",
    "results = []\n",
    "\n",
    "for name, model in models.items():\n",
    "    # Build pipeline and fit\n",
    "    pipeline = Pipeline(stages=[assembler, model])\n",
    "    pipeline_model = pipeline.fit(train_data)\n",
    "    predictions = pipeline_model.transform(test_data)\n",
    "\n",
    "    # AUC using Spark\n",
    "    auc = auc_evaluator.evaluate(predictions)\n",
    "    \n",
    "    # Convert predictions to pandas for sklearn metrics\n",
    "    preds_pd = predictions.select(\"readmitted_binary\", \"prediction\").toPandas()\n",
    "\n",
    "    acc = accuracy_score(preds_pd[\"readmitted_binary\"], preds_pd[\"prediction\"])\n",
    "    f1 = f1_score(preds_pd[\"readmitted_binary\"], preds_pd[\"prediction\"])\n",
    "\n",
    "    results.append({\n",
    "        \"Model\": name,\n",
    "        \"AUC\": round(auc, 4),\n",
    "        \"Accuracy\": round(acc, 4),\n",
    "        \"F1 Score\": round(f1, 4)\n",
    "    })"
   ]
  },
  {
   "cell_type": "markdown",
   "id": "b73d0bec",
   "metadata": {},
   "source": [
    "### Compare Model Performance\n"
   ]
  },
  {
   "cell_type": "markdown",
   "id": "74a171d3",
   "metadata": {},
   "source": [
    "Summarize AUC / Accuracy / F1 for each model in a single table."
   ]
  },
  {
   "cell_type": "code",
   "execution_count": null,
   "id": "b13e379d",
   "metadata": {},
   "outputs": [],
   "source": [
    "# Create summary table\n",
    "results_df = pd.DataFrame(results).sort_values(by=\"AUC\", ascending=False)\n",
    "results_df.reset_index(drop=True, inplace=True)\n",
    "\n",
    "# Display the table\n",
    "print(results_df)"
   ]
  },
  {
   "cell_type": "markdown",
   "id": "f48a2af8",
   "metadata": {},
   "source": [
    "### Visualize Model Performance"
   ]
  },
  {
   "cell_type": "markdown",
   "id": "1a2c62d2",
   "metadata": {},
   "source": [
    "#### Confusion Matrix"
   ]
  },
  {
   "cell_type": "code",
   "execution_count": null,
   "id": "54a306bb",
   "metadata": {},
   "outputs": [],
   "source": [
    "\n",
    "# Convert predictions to pandas\n",
    "preds_pd = predictions.select(\"readmitted_binary\", \"prediction\").toPandas()\n",
    "\n",
    "# Generate confusion matrix\n",
    "cm = confusion_matrix(preds_pd[\"readmitted_binary\"], preds_pd[\"prediction\"])\n",
    "\n",
    "# Plot using seaborn\n",
    "plt.figure(figsize=(5, 4))\n",
    "sns.heatmap(cm, annot=True, fmt='d', cmap='Blues', xticklabels=['Not Readmitted', 'Readmitted'], yticklabels=['Not Readmitted', 'Readmitted'])\n",
    "plt.xlabel(\"Predicted Label\")\n",
    "plt.ylabel(\"True Label\")\n",
    "plt.title(\"Confusion Matrix\")\n",
    "plt.tight_layout()\n",
    "plt.show()\n"
   ]
  },
  {
   "cell_type": "markdown",
   "id": "927b374c",
   "metadata": {},
   "source": [
    "#### ROC Curve"
   ]
  },
  {
   "cell_type": "code",
   "execution_count": null,
   "id": "5542a061",
   "metadata": {},
   "outputs": [],
   "source": [
    "# Extract probability of class 1 (readmitted)\n",
    "probs_labels = predictions.select(\"probability\", \"readmitted_binary\").collect()\n",
    "probs = [row[\"probability\"][1] for row in probs_labels]\n",
    "labels = [row[\"readmitted_binary\"] for row in probs_labels]\n",
    "\n",
    "fpr, tpr, _ = roc_curve(labels, probs)\n",
    "roc_auc = auc(fpr, tpr)\n",
    "\n",
    "plt.plot(fpr, tpr, label=f\"AUC = {roc_auc:.4f}\")\n",
    "plt.plot([0, 1], [0, 1], \"k--\")\n",
    "plt.xlabel(\"False Positive Rate\")\n",
    "plt.ylabel(\"True Positive Rate\")\n",
    "plt.title(\"ROC Curve\")\n",
    "plt.legend(loc=\"lower right\")\n",
    "plt.grid(True)\n",
    "plt.show()"
   ]
  },
  {
   "cell_type": "markdown",
   "id": "3d158abe",
   "metadata": {},
   "source": [
    "#### Analyze Feature Importance"
   ]
  },
  {
   "cell_type": "markdown",
   "id": "0effb916",
   "metadata": {},
   "source": [
    "Visualize which features had the strongest influence on the model’s decisions.\n"
   ]
  },
  {
   "cell_type": "markdown",
   "id": "735aa4d2",
   "metadata": {},
   "source": [
    "#### Tune Hyperparameters"
   ]
  },
  {
   "cell_type": "markdown",
   "id": "59345b01",
   "metadata": {},
   "source": [
    "Use cross-validation and grid search to optimize model parameters.\n"
   ]
  },
  {
   "cell_type": "markdown",
   "id": "ca13551a",
   "metadata": {},
   "source": [
    "### Interpret Results"
   ]
  },
  {
   "cell_type": "code",
   "execution_count": null,
   "id": "841264e3",
   "metadata": {},
   "outputs": [],
   "source": []
  },
  {
   "cell_type": "markdown",
   "id": "57a3d949",
   "metadata": {},
   "source": [
    "### Save PySpark Model Pipeline"
   ]
  },
  {
   "cell_type": "code",
   "execution_count": null,
   "id": "7203738b",
   "metadata": {},
   "outputs": [],
   "source": []
  }
 ],
 "metadata": {
  "kernelspec": {
   "display_name": "Python 3",
   "language": "python",
   "name": "python3"
  },
  "language_info": {
   "codemirror_mode": {
    "name": "ipython",
    "version": 3
   },
   "file_extension": ".py",
   "mimetype": "text/x-python",
   "name": "python",
   "nbconvert_exporter": "python",
   "pygments_lexer": "ipython3",
   "version": "3.12.7"
  }
 },
 "nbformat": 4,
 "nbformat_minor": 5
}
